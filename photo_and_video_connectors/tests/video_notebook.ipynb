{
 "cells": [
  {
   "cell_type": "markdown",
   "metadata": {},
   "source": [
    "# Testing video capture"
   ]
  },
  {
   "cell_type": "markdown",
   "metadata": {},
   "source": [
    "IDEA:\n",
    "* DEFINIR UN ELEMENTO DE MANERA SIMPLE\n",
    "* AGREGAR EL CONTENIDO DE MANERA DINAMICA"
   ]
  },
  {
   "cell_type": "markdown",
   "metadata": {},
   "source": [
    "## Install library"
   ]
  },
  {
   "cell_type": "code",
   "execution_count": null,
   "metadata": {},
   "outputs": [],
   "source": [
    "# from repository\n",
    "!pip install --upgrade git+https://github.com/sebastiandres/photo_and_video_connectors.git"
   ]
  },
  {
   "cell_type": "markdown",
   "metadata": {},
   "source": [
    "## Import library"
   ]
  },
  {
   "cell_type": "code",
   "execution_count": 1,
   "metadata": {},
   "outputs": [
    {
     "name": "stdout",
     "output_type": "stream",
     "text": [
      "0.2.2\n"
     ]
    }
   ],
   "source": [
    "from photo_and_video_connectors import version\n",
    "print(version)\n",
    "from photo_and_video_connectors import video"
   ]
  },
  {
   "cell_type": "markdown",
   "metadata": {},
   "source": [
    "## Capture from webcam"
   ]
  },
  {
   "cell_type": "code",
   "execution_count": 2,
   "metadata": {},
   "outputs": [
    {
     "data": {
      "text/html": [
       "<script type = 'text/JavaScript'>\n",
       "  var VIDEO_TYPE = 'webcam';\n",
       "  var WIDTH = '600'\n",
       "  var HEIGHT = '480';\n",
       "</script>\n",
       "  \n",
       "<div id='canvas_div'>\n",
       "  <div id=\"choice_div\">    \n",
       "    <b>Resolution</b>: width <input type='text' id='width_input' value='800' size='4'>\n",
       "    height <input type='text' id='height_input' value='600' size='4'>\n",
       "    <br>\n",
       "    <b>Input</b>: <button id='webcam_button' onclick='webcam_function()'>Webcam</button> \n",
       "    <button id='screen_button' onclick='screen_function()'>Screen</button> \n",
       "  </div>\n",
       "</div>\n",
       "  \n",
       "<script type = 'text/JavaScript'>\n",
       "\n",
       "  function webcam_function(){\n",
       "      VIDEO_TYPE = 'webcam';\n",
       "      WIDTH = width_input.value;\n",
       "      HEIGHT = height_input.value;\n",
       "      stream_frame('Capturing...', ''); \n",
       "  }\n",
       "\n",
       "  function screen_function(){\n",
       "      VIDEO_TYPE = 'screen';\n",
       "      WIDTH = width_input.value;\n",
       "      HEIGHT = height_input.value;\n",
       "      stream_frame('Capturing...', '');\n",
       "  }\n",
       "  \n",
       "  async function remove_choice_div() {\n",
       "      /*  Removes the height and width inputs and choice buttons */\n",
       "      choice_div = document.getElementById('choice_div');\n",
       "      choice_div.remove();\n",
       "  }\n",
       "  \n",
       "  var video;\n",
       "  var div = null;\n",
       "  var stream;\n",
       "  var captureCanvas;\n",
       "  var imgElement;\n",
       "  var labelElement;\n",
       "  \n",
       "  var pendingResolve = null;\n",
       "  var shutdown = false;\n",
       "  \n",
       "  function removeDom() {\n",
       "     stream.getVideoTracks()[0].stop();\n",
       "     video.remove();\n",
       "     div.remove();\n",
       "     video = null;\n",
       "     div = null;\n",
       "     stream = null;\n",
       "     imgElement = null;\n",
       "     captureCanvas = null;\n",
       "     labelElement = null;\n",
       "  }\n",
       "  \n",
       "  function onAnimationFrame() {\n",
       "    if (!shutdown) {\n",
       "      window.requestAnimationFrame(onAnimationFrame);\n",
       "    }\n",
       "    if (pendingResolve) {\n",
       "      var result = '';\n",
       "      if (!shutdown) {\n",
       "        captureCanvas.getContext('2d').drawImage(video, 0, 0, WIDTH, HEIGHT);\n",
       "        result = captureCanvas.toDataURL('image/jpeg', 0.8)\n",
       "      }\n",
       "      var lp = pendingResolve;\n",
       "      pendingResolve = null;\n",
       "      lp(result);\n",
       "    }\n",
       "  }\n",
       "  \n",
       "  async function createDom() {\n",
       "    if (div !== null) {\n",
       "      return stream;\n",
       "    }\n",
       "  \n",
       "    div = document.createElement('div');\n",
       "    div.style.border = '2px solid black';\n",
       "    div.style.padding = '3px';\n",
       "    div.style.width = '100%';\n",
       "    div.style.maxWidth = parseInt(WIDTH) + 'px';\n",
       "    //document.body.appendChild(div);\n",
       "    canvas_div = document.getElementById('canvas_div');\n",
       "    canvas_div.appendChild(div);\n",
       "  \n",
       "    const modelOut = document.createElement('div');\n",
       "    modelOut.innerHTML = '<span>Status:</span>';\n",
       "    labelElement = document.createElement('span');\n",
       "    labelElement.innerText = 'No data';\n",
       "    labelElement.style.fontWeight = 'bold';\n",
       "    modelOut.appendChild(labelElement);\n",
       "    div.appendChild(modelOut);\n",
       "         \n",
       "    video = document.createElement('video');\n",
       "    video.style.display = 'block';\n",
       "    video.width = div.clientWidth - 6;\n",
       "    video.setAttribute('playsinline', '');\n",
       "    video.onclick = () => { shutdown = true; };\n",
       "  \n",
       "    if (VIDEO_TYPE=='webcam')\n",
       "      {stream = await navigator.mediaDevices.getUserMedia( {video: { facingMode: 'environment'} })}\n",
       "    else\n",
       "      {stream = await navigator.mediaDevices.getDisplayMedia()};\n",
       "  \n",
       "    div.appendChild(video);\n",
       "  \n",
       "    imgElement = document.createElement('img');\n",
       "    imgElement.style.position = 'absolute';\n",
       "    imgElement.style.zIndex = 1;\n",
       "    imgElement.onclick = () => { shutdown = true; };\n",
       "    div.appendChild(imgElement);\n",
       "    \n",
       "    const instruction = document.createElement('div');\n",
       "    instruction.innerHTML = 'Click here or on the video to stop';\n",
       "    div.appendChild(instruction);\n",
       "    instruction.onclick = () => { shutdown = true; };\n",
       "    \n",
       "    video.srcObject = stream;\n",
       "    await video.play();\n",
       "  \n",
       "    captureCanvas = document.createElement('canvas');\n",
       "    //captureCanvas.width = 640; //video.videoWidth;\n",
       "    //captureCanvas.height = 480; //video.videoHeight;\n",
       "    captureCanvas.width = video.videoWidth;\n",
       "    captureCanvas.height = video.videoHeight;\n",
       "    window.requestAnimationFrame(onAnimationFrame);\n",
       "    \n",
       "    return stream;\n",
       "  }\n",
       "  \n",
       "  \n",
       "  async function stream_frame(label, imgData) {\n",
       "    /* \n",
       "    */ \n",
       "    remove_choice_div()\n",
       "    if (shutdown) {\n",
       "      removeDom();\n",
       "      shutdown = false;\n",
       "      return '';\n",
       "    }\n",
       "  \n",
       "    var preCreate = Date.now();\n",
       "    stream = await createDom();\n",
       "    \n",
       "    var preShow = Date.now();\n",
       "    if (label != '') {\n",
       "      labelElement.innerHTML = label;\n",
       "    }\n",
       "          \n",
       "    if (imgData != '') {\n",
       "      var videoRect = video.getClientRects()[0];\n",
       "      imgElement.style.top = videoRect.top + 'px';\n",
       "      imgElement.style.left = videoRect.left + 'px';\n",
       "      imgElement.style.width = videoRect.width + 'px';\n",
       "      imgElement.style.height = videoRect.height + 'px';\n",
       "      imgElement.src = imgData;\n",
       "    }\n",
       "    \n",
       "    var preCapture = Date.now();\n",
       "    var result = await new Promise(function(resolve, reject) {\n",
       "      pendingResolve = resolve;\n",
       "    });\n",
       "    shutdown = false;\n",
       "    \n",
       "    return {'create': preShow - preCreate, \n",
       "            'show': preCapture - preShow, \n",
       "            'capture': Date.now() - preCapture,\n",
       "            'img': result};\n",
       "  }\n",
       "      \n",
       "  </script>"
      ],
      "text/plain": [
       "<IPython.core.display.HTML object>"
      ]
     },
     "execution_count": 2,
     "metadata": {},
     "output_type": "execute_result"
    }
   ],
   "source": [
    "video.setup_properties(\"webcam\", height=480, width=600)"
   ]
  },
  {
   "cell_type": "code",
   "execution_count": 3,
   "metadata": {},
   "outputs": [
    {
     "ename": "NameError",
     "evalue": "name 'js_wrapper' is not defined",
     "output_type": "error",
     "traceback": [
      "\u001b[0;31m---------------------------------------------------------------------------\u001b[0m",
      "\u001b[0;31mNameError\u001b[0m                                 Traceback (most recent call last)",
      "\u001b[0;32m<ipython-input-3-77b9da7d2e92>\u001b[0m in \u001b[0;36m<module>\u001b[0;34m\u001b[0m\n\u001b[1;32m      1\u001b[0m \u001b[0;32mwhile\u001b[0m \u001b[0;32mTrue\u001b[0m\u001b[0;34m:\u001b[0m\u001b[0;34m\u001b[0m\u001b[0;34m\u001b[0m\u001b[0m\n\u001b[0;32m----> 2\u001b[0;31m     \u001b[0mvideo\u001b[0m\u001b[0;34m.\u001b[0m\u001b[0mupdate_frame\u001b[0m\u001b[0;34m(\u001b[0m\u001b[0;34m\"\"\u001b[0m\u001b[0;34m)\u001b[0m\u001b[0;34m\u001b[0m\u001b[0;34m\u001b[0m\u001b[0m\n\u001b[0m",
      "\u001b[0;32m/miniconda3/envs/connectors/lib/python3.8/site-packages/photo_and_video_connectors-0.2.2-py3.8.egg/photo_and_video_connectors/video.py\u001b[0m in \u001b[0;36mupdate_frame\u001b[0;34m(bbox)\u001b[0m\n\u001b[1;32m     46\u001b[0m         \"\"\"\n\u001b[1;32m     47\u001b[0m         \u001b[0;31m# This runs the javascript and makes data available\u001b[0m\u001b[0;34m\u001b[0m\u001b[0;34m\u001b[0m\u001b[0;34m\u001b[0m\u001b[0m\n\u001b[0;32m---> 48\u001b[0;31m         \u001b[0mHTML\u001b[0m\u001b[0;34m(\u001b[0m\u001b[0mjs_wrapper\u001b[0m\u001b[0;34m)\u001b[0m\u001b[0;34m\u001b[0m\u001b[0;34m\u001b[0m\u001b[0m\n\u001b[0m\u001b[1;32m     49\u001b[0m \u001b[0;34m\u001b[0m\u001b[0m\n\u001b[1;32m     50\u001b[0m     \u001b[0;32mreturn\u001b[0m \u001b[0mdata\u001b[0m\u001b[0;34m\u001b[0m\u001b[0;34m\u001b[0m\u001b[0m\n",
      "\u001b[0;31mNameError\u001b[0m: name 'js_wrapper' is not defined"
     ]
    }
   ],
   "source": [
    "while True:\n",
    "    video.update_frame(\"\")"
   ]
  },
  {
   "cell_type": "markdown",
   "metadata": {},
   "source": [
    "## Capture from Screen (Displays)"
   ]
  },
  {
   "cell_type": "code",
   "execution_count": null,
   "metadata": {},
   "outputs": [],
   "source": [
    "setup_video_properties(\"screen\", height=480, width=600)\n",
    "while True:\n",
    "    update_video_frame()"
   ]
  },
  {
   "cell_type": "markdown",
   "metadata": {},
   "source": [
    "## Upload file"
   ]
  },
  {
   "cell_type": "code",
   "execution_count": null,
   "metadata": {},
   "outputs": [],
   "source": [
    "setup_video_properties(\"upload\", height=480, width=600)\n",
    "while True:\n",
    "    update_video_frame()"
   ]
  },
  {
   "cell_type": "markdown",
   "metadata": {},
   "source": [
    "## Select from available choices"
   ]
  },
  {
   "cell_type": "code",
   "execution_count": null,
   "metadata": {},
   "outputs": [],
   "source": [
    "setup_video_properties()\n",
    "while True:\n",
    "    update_video_frame()"
   ]
  }
 ],
 "metadata": {
  "kernelspec": {
   "display_name": "Python 3",
   "language": "python",
   "name": "python3"
  },
  "language_info": {
   "codemirror_mode": {
    "name": "ipython",
    "version": 3
   },
   "file_extension": ".py",
   "mimetype": "text/x-python",
   "name": "python",
   "nbconvert_exporter": "python",
   "pygments_lexer": "ipython3",
   "version": "3.8.8"
  }
 },
 "nbformat": 4,
 "nbformat_minor": 2
}
