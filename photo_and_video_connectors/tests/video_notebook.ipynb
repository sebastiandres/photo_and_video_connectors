{
 "cells": [
  {
   "cell_type": "markdown",
   "metadata": {},
   "source": [
    "# Testing video capture"
   ]
  },
  {
   "cell_type": "markdown",
   "metadata": {},
   "source": [
    "IDEA:\n",
    "* DEFINIR UN ELEMENTO DE MANERA SIMPLE\n",
    "* AGREGAR EL CONTENIDO DE MANERA DINAMICA"
   ]
  },
  {
   "cell_type": "markdown",
   "metadata": {},
   "source": [
    "## Install library"
   ]
  },
  {
   "cell_type": "code",
   "execution_count": null,
   "metadata": {},
   "outputs": [],
   "source": [
    "# from repository\n",
    "!pip install --upgrade git+https://github.com/sebastiandres/photo_and_video_connectors.git"
   ]
  },
  {
   "cell_type": "markdown",
   "metadata": {},
   "source": [
    "## Import library"
   ]
  },
  {
   "cell_type": "code",
   "execution_count": 7,
   "metadata": {},
   "outputs": [
    {
     "name": "stdout",
     "output_type": "stream",
     "text": [
      "0.1.0\n"
     ]
    }
   ],
   "source": [
    "from photo_and_video_connectors import version\n",
    "print(version)\n",
    "from photo_and_video_connectors import video"
   ]
  },
  {
   "cell_type": "markdown",
   "metadata": {},
   "source": [
    "## From raw js"
   ]
  },
  {
   "cell_type": "code",
   "execution_count": null,
   "metadata": {},
   "outputs": [],
   "source": [
    "from IPython.display import HTML\n",
    "\n",
    "my_html = \\\n",
    "\"\"\"\n",
    "<script type = \"text/JavaScript\">\n",
    "var VIDEO_TYPE = \"\";\n",
    "var WIDTH = 1000;\n",
    "var HEIGHT = 800;\n",
    "</script>\n",
    "\n",
    "<div id=\"canvas_div\">\n",
    "<b>Resolution</b>: width <input type=\"text\" id=\"width_input\" value=\"800\" size=\"4\">\n",
    " height <input type=\"text\" id=\"height_input\" value=\"600\" size=\"4\">\n",
    " <br>\n",
    "<b>Input</b>: <button id=\"webcam_button\" onclick=\"webcam_function()\">Webcam</button> \n",
    "<button id=\"screen_button\" onclick=\"screen_function()\">Screen</button> \n",
    "</div>\n",
    "\n",
    "<script type = \"text/JavaScript\">\n",
    "function webcam_function(){\n",
    "    VIDEO_TYPE = \"webcam\";\n",
    "    WIDTH = width_input.value;\n",
    "    HEIGHT = height_input.value;\n",
    "    stream_frame(\"Capturing...\", \"\"); \n",
    "}\n",
    "function screen_function(){\n",
    "    VIDEO_TYPE = \"screen\";\n",
    "    WIDTH = width_input.value;\n",
    "    HEIGHT = height_input.value;\n",
    "    stream_frame(\"Capturing...\", \"\");\n",
    "}\n",
    "async function remove_choice_div() {\n",
    "    /*  Removes the height and width inputs and choice buttons */\n",
    "    document.getElementById(\"choice_div\");\n",
    "    choice_div.remove();\n",
    "}\n",
    "var video;\n",
    "var div = null;\n",
    "var stream;\n",
    "var captureCanvas;\n",
    "var imgElement;\n",
    "var labelElement;\n",
    "\n",
    "var pendingResolve = null;\n",
    "var shutdown = false;\n",
    "\n",
    "function removeDom() {\n",
    "   stream.getVideoTracks()[0].stop();\n",
    "   video.remove();\n",
    "   div.remove();\n",
    "   video = null;\n",
    "   div = null;\n",
    "   stream = null;\n",
    "   imgElement = null;\n",
    "   captureCanvas = null;\n",
    "   labelElement = null;\n",
    "}\n",
    "\n",
    "function onAnimationFrame() {\n",
    "  if (!shutdown) {\n",
    "    window.requestAnimationFrame(onAnimationFrame);\n",
    "  }\n",
    "  if (pendingResolve) {\n",
    "    var result = \"\";\n",
    "    if (!shutdown) {\n",
    "      captureCanvas.getContext('2d').drawImage(video, 0, 0, WIDTH, HEIGHT);\n",
    "      result = captureCanvas.toDataURL('image/jpeg', 0.8)\n",
    "    }\n",
    "    var lp = pendingResolve;\n",
    "    pendingResolve = null;\n",
    "    lp(result);\n",
    "  }\n",
    "}\n",
    "\n",
    "async function createDom() {\n",
    "  if (div !== null) {\n",
    "    return stream;\n",
    "  }\n",
    "\n",
    "  div = document.createElement('div');\n",
    "  div.style.border = '2px solid black';\n",
    "  div.style.padding = '3px';\n",
    "  div.style.width = '100%';\n",
    "  div.style.maxWidth = parseInt(WIDTH) + 'px';\n",
    "  //document.body.appendChild(div);\n",
    "  canvas_div = document.getElementById(\"canvas_div\");\n",
    "  canvas_div.appendChild(div);\n",
    "\n",
    "  const modelOut = document.createElement('div');\n",
    "  modelOut.innerHTML = \"<span>Status:</span>\";\n",
    "  labelElement = document.createElement('span');\n",
    "  labelElement.innerText = 'No data';\n",
    "  labelElement.style.fontWeight = 'bold';\n",
    "  modelOut.appendChild(labelElement);\n",
    "  div.appendChild(modelOut);\n",
    "       \n",
    "  video = document.createElement('video');\n",
    "  video.style.display = 'block';\n",
    "  video.width = div.clientWidth - 6;\n",
    "  video.setAttribute('playsinline', '');\n",
    "  video.onclick = () => { shutdown = true; };\n",
    "\n",
    "  if (VIDEO_TYPE==\"webcam\")\n",
    "    {stream = await navigator.mediaDevices.getUserMedia( {video: { facingMode: \"environment\"} })}\n",
    "  else\n",
    "    {stream = await navigator.mediaDevices.getDisplayMedia()};\n",
    "\n",
    "  div.appendChild(video);\n",
    "\n",
    "  imgElement = document.createElement('img');\n",
    "  imgElement.style.position = 'absolute';\n",
    "  imgElement.style.zIndex = 1;\n",
    "  imgElement.onclick = () => { shutdown = true; };\n",
    "  div.appendChild(imgElement);\n",
    "  \n",
    "  const instruction = document.createElement('div');\n",
    "  instruction.innerHTML = \n",
    "      '<span style=\"color: red; font-weight: bold;\">' +\n",
    "      'When finished, click here or on the video to stop this demo</span>';\n",
    "  div.appendChild(instruction);\n",
    "  instruction.onclick = () => { shutdown = true; };\n",
    "  \n",
    "  video.srcObject = stream;\n",
    "  await video.play();\n",
    "\n",
    "  captureCanvas = document.createElement('canvas');\n",
    "  //captureCanvas.width = 640; //video.videoWidth;\n",
    "  //captureCanvas.height = 480; //video.videoHeight;\n",
    "  captureCanvas.width = video.videoWidth;\n",
    "  captureCanvas.height = video.videoHeight;\n",
    "  window.requestAnimationFrame(onAnimationFrame);\n",
    "  \n",
    "  return stream;\n",
    "}\n",
    "\n",
    "\n",
    "async function stream_frame(label, imgData) {\n",
    "  /* \n",
    "  */ \n",
    "  remove_choice_div()\n",
    "  if (shutdown) {\n",
    "    removeDom();\n",
    "    shutdown = false;\n",
    "    return '';\n",
    "  }\n",
    "\n",
    "  var preCreate = Date.now();\n",
    "  stream = await createDom();\n",
    "  \n",
    "  var preShow = Date.now();\n",
    "  if (label != \"\") {\n",
    "    labelElement.innerHTML = label;\n",
    "  }\n",
    "        \n",
    "  if (imgData != \"\") {\n",
    "    var videoRect = video.getClientRects()[0];\n",
    "    imgElement.style.top = videoRect.top + \"px\";\n",
    "    imgElement.style.left = videoRect.left + \"px\";\n",
    "    imgElement.style.width = videoRect.width + \"px\";\n",
    "    imgElement.style.height = videoRect.height + \"px\";\n",
    "    imgElement.src = imgData;\n",
    "  }\n",
    "  \n",
    "  var preCapture = Date.now();\n",
    "  var result = await new Promise(function(resolve, reject) {\n",
    "    pendingResolve = resolve;\n",
    "  });\n",
    "  shutdown = false;\n",
    "  \n",
    "  return {'create': preShow - preCreate, \n",
    "          'show': preCapture - preShow, \n",
    "          'capture': Date.now() - preCapture,\n",
    "          'img': result};\n",
    "}\n",
    "    \n",
    "</script>\n",
    "\n",
    "\"\"\"\n",
    "HTML(my_html)"
   ]
  },
  {
   "cell_type": "code",
   "execution_count": 6,
   "metadata": {
    "scrolled": true
   },
   "outputs": [
    {
     "data": {
      "text/html": [
       "\n",
       "<div style=\"background-color:gainsboro; border:solid black; width:300px; padding:20px;\">\n",
       "Variable Name: <input type=\"text\" id=\"var_name\" value=\"foos\"><br>\n",
       "Variable Value: <input type=\"text\" id=\"var_value\" value=\"bars\"><br>\n",
       "<button onclick=\"set_value()\">Set Value</button>\n",
       "</div>\n",
       "\n",
       "<script type=\"text/Javascript\">\n",
       "    function set_value(){\n",
       "        var var_name = document.getElementById('var_name').value;\n",
       "        var var_value = document.getElementById('var_value').value;\n",
       "        var command = var_name + \" = '\" + var_value + \"'\";\n",
       "        console.log(\"Executing Command: \" + command);\n",
       "        \n",
       "        var kernel = IPython.notebook.kernel;\n",
       "        kernel.execute(command);\n",
       "    }\n",
       "</script>\n"
      ],
      "text/plain": [
       "<IPython.core.display.HTML object>"
      ]
     },
     "execution_count": 6,
     "metadata": {},
     "output_type": "execute_result"
    }
   ],
   "source": [
    "from IPython.display import HTML\n",
    "var_name = \"foos\"\n",
    "var_value = \"bars\"\n",
    "\n",
    "input_form = f\"\"\"\n",
    "<div style=\"background-color:gainsboro; border:solid black; width:300px; padding:20px;\">\n",
    "Variable Name: <input type=\"text\" id=\"var_name\" value=\"{var_name}\"><br>\n",
    "Variable Value: <input type=\"text\" id=\"var_value\" value=\"{var_value}\"><br>\n",
    "<button onclick=\"set_value()\">Set Value</button>\n",
    "</div>\n",
    "\"\"\"\n",
    "\n",
    "javascript = \"\"\"\n",
    "<script type=\"text/Javascript\">\n",
    "    function set_value(){\n",
    "        var var_name = document.getElementById('var_name').value;\n",
    "        var var_value = document.getElementById('var_value').value;\n",
    "        var command = var_name + \" = '\" + var_value + \"'\";\n",
    "        console.log(\"Executing Command: \" + command);\n",
    "        \n",
    "        var kernel = IPython.notebook.kernel;\n",
    "        kernel.execute(command);\n",
    "    }\n",
    "</script>\n",
    "\"\"\"\n",
    "\n",
    "HTML(input_form + javascript)"
   ]
  },
  {
   "cell_type": "code",
   "execution_count": 2,
   "metadata": {},
   "outputs": [
    {
     "data": {
      "text/plain": [
       "'3'"
      ]
     },
     "execution_count": 2,
     "metadata": {},
     "output_type": "execute_result"
    }
   ],
   "source": [
    "seba"
   ]
  },
  {
   "cell_type": "code",
   "execution_count": null,
   "metadata": {},
   "outputs": [],
   "source": [
    "!ls /miniconda3/envs/connectors/lib/python3.8/site-packages/photo_and_video_connectors/"
   ]
  },
  {
   "cell_type": "markdown",
   "metadata": {},
   "source": [
    "## Capture from webcam"
   ]
  },
  {
   "cell_type": "code",
   "execution_count": null,
   "metadata": {},
   "outputs": [],
   "source": [
    "video.setup_properties(\"webcam\", height=480, width=600)"
   ]
  },
  {
   "cell_type": "code",
   "execution_count": null,
   "metadata": {},
   "outputs": [],
   "source": [
    "while True:\n",
    "    video.update_frame(\"\")"
   ]
  },
  {
   "cell_type": "markdown",
   "metadata": {},
   "source": [
    "## Capture from Screen (Displays)"
   ]
  },
  {
   "cell_type": "code",
   "execution_count": null,
   "metadata": {},
   "outputs": [],
   "source": [
    "setup_video_properties(\"screen\", height=480, width=600)\n",
    "while True:\n",
    "    update_video_frame()"
   ]
  },
  {
   "cell_type": "markdown",
   "metadata": {},
   "source": [
    "## Upload file"
   ]
  },
  {
   "cell_type": "code",
   "execution_count": null,
   "metadata": {},
   "outputs": [],
   "source": [
    "setup_video_properties(\"upload\", height=480, width=600)\n",
    "while True:\n",
    "    update_video_frame()"
   ]
  },
  {
   "cell_type": "markdown",
   "metadata": {},
   "source": [
    "## Select from available choices"
   ]
  },
  {
   "cell_type": "code",
   "execution_count": null,
   "metadata": {},
   "outputs": [],
   "source": [
    "setup_video_properties()\n",
    "while True:\n",
    "    update_video_frame()"
   ]
  }
 ],
 "metadata": {
  "kernelspec": {
   "display_name": "Python 3",
   "language": "python",
   "name": "python3"
  },
  "language_info": {
   "codemirror_mode": {
    "name": "ipython",
    "version": 3
   },
   "file_extension": ".py",
   "mimetype": "text/x-python",
   "name": "python",
   "nbconvert_exporter": "python",
   "pygments_lexer": "ipython3",
   "version": "3.8.8"
  }
 },
 "nbformat": 4,
 "nbformat_minor": 2
}
