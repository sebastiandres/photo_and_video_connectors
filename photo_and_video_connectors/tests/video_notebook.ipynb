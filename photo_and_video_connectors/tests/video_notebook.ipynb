{
 "cells": [
  {
   "cell_type": "markdown",
   "metadata": {},
   "source": [
    "# Testing video capture"
   ]
  },
  {
   "cell_type": "markdown",
   "metadata": {},
   "source": [
    "IDEA:\n",
    "* DEFINIR UN ELEMENTO DE MANERA SIMPLE\n",
    "* AGREGAR EL CONTENIDO DE MANERA DINAMICA"
   ]
  },
  {
   "cell_type": "markdown",
   "metadata": {},
   "source": [
    "## Install library"
   ]
  },
  {
   "cell_type": "code",
   "execution_count": null,
   "metadata": {},
   "outputs": [],
   "source": [
    "# from repository\n",
    "!pip install --upgrade git+https://github.com/sebastiandres/photo_and_video_connectors.git"
   ]
  },
  {
   "cell_type": "markdown",
   "metadata": {},
   "source": [
    "## Import library"
   ]
  },
  {
   "cell_type": "code",
   "execution_count": 1,
   "metadata": {},
   "outputs": [
    {
     "name": "stdout",
     "output_type": "stream",
     "text": [
      "0.2.3\n"
     ]
    }
   ],
   "source": [
    "from photo_and_video_connectors import version\n",
    "print(version)\n",
    "from photo_and_video_connectors import video"
   ]
  },
  {
   "cell_type": "markdown",
   "metadata": {},
   "source": [
    "## Capture from webcam"
   ]
  },
  {
   "cell_type": "code",
   "execution_count": 3,
   "metadata": {},
   "outputs": [
    {
     "data": {
      "application/javascript": [
       "async function remove_choice_div() {\n",
       "  /*  Removes the height and width inputs and choice buttons */\n",
       "  choice_div = document.getElementById('choice_div');\n",
       "  choice_div.remove();\n",
       "}\n",
       "\n",
       "var video;\n",
       "var div = null;\n",
       "var stream;\n",
       "var captureCanvas;\n",
       "var imgElement;\n",
       "var labelElement;\n",
       "\n",
       "var pendingResolve = null;\n",
       "var shutdown = false;\n",
       "\n",
       "function removeDom() {\n",
       " stream.getVideoTracks()[0].stop();\n",
       " video.remove();\n",
       " div.remove();\n",
       " video = null;\n",
       " div = null;\n",
       " stream = null;\n",
       " imgElement = null;\n",
       " captureCanvas = null;\n",
       " labelElement = null;\n",
       "}\n",
       "\n",
       "function onAnimationFrame() {\n",
       "if (!shutdown) {\n",
       "  window.requestAnimationFrame(onAnimationFrame);\n",
       "}\n",
       "if (pendingResolve) {\n",
       "  var result = '';\n",
       "  if (!shutdown) {\n",
       "    captureCanvas.getContext('2d').drawImage(video, 0, 0, WIDTH, HEIGHT);\n",
       "    result = captureCanvas.toDataURL('image/jpeg', 0.8)\n",
       "  }\n",
       "  var lp = pendingResolve;\n",
       "  pendingResolve = null;\n",
       "  lp(result);\n",
       "}\n",
       "}\n",
       "\n",
       "async function createDom() {\n",
       "if (div !== null) {\n",
       "  return stream;\n",
       "}\n",
       "\n",
       "div = document.createElement('div');\n",
       "div.style.border = '2px solid black';\n",
       "div.style.padding = '3px';\n",
       "div.style.width = '100%';\n",
       "div.style.maxWidth = parseInt(WIDTH) + 'px';\n",
       "canvas_div = document.getElementById('canvas_div');\n",
       "canvas_div.appendChild(div);\n",
       "\n",
       "const modelOut = document.createElement('div');\n",
       "modelOut.innerHTML = '<span>Status:</span>';\n",
       "labelElement = document.createElement('span');\n",
       "labelElement.innerText = 'No data';\n",
       "labelElement.style.fontWeight = 'bold';\n",
       "modelOut.appendChild(labelElement);\n",
       "div.appendChild(modelOut);\n",
       "     \n",
       "video = document.createElement('video');\n",
       "video.style.display = 'block';\n",
       "video.width = div.clientWidth - 6;\n",
       "video.setAttribute('playsinline', '');\n",
       "video.onclick = () => { shutdown = true; };\n",
       "\n",
       "if (VIDEO_TYPE=='webcam')\n",
       "  {stream = await navigator.mediaDevices.getUserMedia( {video: { facingMode: 'environment'} })}\n",
       "else\n",
       "  {stream = await navigator.mediaDevices.getDisplayMedia()};\n",
       "\n",
       "div.appendChild(video);\n",
       "\n",
       "imgElement = document.createElement('img');\n",
       "imgElement.style.position = 'absolute';\n",
       "imgElement.style.zIndex = 1;\n",
       "imgElement.onclick = () => { shutdown = true; };\n",
       "div.appendChild(imgElement);\n",
       "\n",
       "const instruction = document.createElement('div');\n",
       "instruction.innerHTML = 'Click here or on the video to stop';\n",
       "div.appendChild(instruction);\n",
       "instruction.onclick = () => { shutdown = true; };\n",
       "\n",
       "video.srcObject = stream;\n",
       "await video.play();\n",
       "\n",
       "captureCanvas = document.createElement('canvas');\n",
       "captureCanvas.width = video.videoWidth;\n",
       "captureCanvas.height = video.videoHeight;\n",
       "window.requestAnimationFrame(onAnimationFrame);\n",
       "\n",
       "return stream;\n",
       "}\n",
       "\n",
       "async function stream_frame(label, imgData) {\n",
       "/*\n",
       "Updating the frame with the provided data \n",
       "*/ \n",
       "remove_choice_div()\n",
       "if (shutdown) {\n",
       "  removeDom();\n",
       "  shutdown = false;\n",
       "  return '';\n",
       "}\n",
       "\n",
       "var preCreate = Date.now();\n",
       "stream = await createDom();\n",
       "\n",
       "var preShow = Date.now();\n",
       "if (label != '') {\n",
       "  labelElement.innerHTML = label;\n",
       "}\n",
       "      \n",
       "if (imgData != '') {\n",
       "  var videoRect = video.getClientRects()[0];\n",
       "  imgElement.style.top = videoRect.top + 'px';\n",
       "  imgElement.style.left = videoRect.left + 'px';\n",
       "  imgElement.style.width = videoRect.width + 'px';\n",
       "  imgElement.style.height = videoRect.height + 'px';\n",
       "  imgElement.src = imgData;\n",
       "}\n",
       "\n",
       "var preCapture = Date.now();\n",
       "var result = await new Promise(function(resolve, reject) {\n",
       "  pendingResolve = resolve;\n",
       "});\n",
       "shutdown = false;\n",
       "\n",
       "return {'create': preShow - preCreate, \n",
       "        'show': preCapture - preShow, \n",
       "        'capture': Date.now() - preCapture,\n",
       "        'img': result};\n",
       "}"
      ],
      "text/plain": [
       "<IPython.core.display.Javascript object>"
      ]
     },
     "metadata": {},
     "output_type": "display_data"
    },
    {
     "ename": "UnboundLocalError",
     "evalue": "local variable 'data' referenced before assignment",
     "output_type": "error",
     "traceback": [
      "\u001b[0;31m---------------------------------------------------------------------------\u001b[0m",
      "\u001b[0;31mUnboundLocalError\u001b[0m                         Traceback (most recent call last)",
      "\u001b[0;32m<ipython-input-3-f5faf98a4cf6>\u001b[0m in \u001b[0;36m<module>\u001b[0;34m\u001b[0m\n\u001b[1;32m      1\u001b[0m \u001b[0mvideo\u001b[0m\u001b[0;34m.\u001b[0m\u001b[0msetup_properties\u001b[0m\u001b[0;34m(\u001b[0m\u001b[0;34m\"webcam\"\u001b[0m\u001b[0;34m,\u001b[0m \u001b[0mheight\u001b[0m\u001b[0;34m=\u001b[0m\u001b[0;36m480\u001b[0m\u001b[0;34m,\u001b[0m \u001b[0mwidth\u001b[0m\u001b[0;34m=\u001b[0m\u001b[0;36m600\u001b[0m\u001b[0;34m)\u001b[0m\u001b[0;34m\u001b[0m\u001b[0;34m\u001b[0m\u001b[0m\n\u001b[1;32m      2\u001b[0m \u001b[0;32mwhile\u001b[0m \u001b[0;32mTrue\u001b[0m\u001b[0;34m:\u001b[0m\u001b[0;34m\u001b[0m\u001b[0;34m\u001b[0m\u001b[0m\n\u001b[0;32m----> 3\u001b[0;31m     \u001b[0mvideo\u001b[0m\u001b[0;34m.\u001b[0m\u001b[0mupdate_frame\u001b[0m\u001b[0;34m(\u001b[0m\u001b[0;34m\"\"\u001b[0m\u001b[0;34m)\u001b[0m\u001b[0;34m\u001b[0m\u001b[0;34m\u001b[0m\u001b[0m\n\u001b[0m",
      "\u001b[0;32m/miniconda3/envs/connectors/lib/python3.8/site-packages/photo_and_video_connectors-0.2.3-py3.8.egg/photo_and_video_connectors/video.py\u001b[0m in \u001b[0;36mupdate_frame\u001b[0;34m(bbox)\u001b[0m\n\u001b[1;32m     53\u001b[0m         \u001b[0mHTML\u001b[0m\u001b[0;34m(\u001b[0m\u001b[0mjs_wrapper\u001b[0m\u001b[0;34m)\u001b[0m\u001b[0;34m\u001b[0m\u001b[0;34m\u001b[0m\u001b[0m\n\u001b[1;32m     54\u001b[0m \u001b[0;34m\u001b[0m\u001b[0m\n\u001b[0;32m---> 55\u001b[0;31m     \u001b[0;32mreturn\u001b[0m \u001b[0mdata\u001b[0m\u001b[0;34m\u001b[0m\u001b[0;34m\u001b[0m\u001b[0m\n\u001b[0m\u001b[1;32m     56\u001b[0m \u001b[0;34m\u001b[0m\u001b[0m\n\u001b[1;32m     57\u001b[0m \u001b[0;34m\u001b[0m\u001b[0m\n",
      "\u001b[0;31mUnboundLocalError\u001b[0m: local variable 'data' referenced before assignment"
     ]
    }
   ],
   "source": [
    "video.setup_properties(\"webcam\", height=480, width=600)\n",
    "while True:\n",
    "    #video.update_frame(\"\")"
   ]
  },
  {
   "cell_type": "code",
   "execution_count": null,
   "metadata": {},
   "outputs": [],
   "source": []
  },
  {
   "cell_type": "markdown",
   "metadata": {},
   "source": [
    "## Capture from Screen (Displays)"
   ]
  },
  {
   "cell_type": "code",
   "execution_count": null,
   "metadata": {},
   "outputs": [],
   "source": [
    "setup_video_properties(\"screen\", height=480, width=600)\n",
    "while True:\n",
    "    update_video_frame()"
   ]
  },
  {
   "cell_type": "markdown",
   "metadata": {},
   "source": [
    "## Upload file"
   ]
  },
  {
   "cell_type": "code",
   "execution_count": null,
   "metadata": {},
   "outputs": [],
   "source": [
    "setup_video_properties(\"upload\", height=480, width=600)\n",
    "while True:\n",
    "    update_video_frame()"
   ]
  },
  {
   "cell_type": "markdown",
   "metadata": {},
   "source": [
    "## Select from available choices"
   ]
  },
  {
   "cell_type": "code",
   "execution_count": null,
   "metadata": {},
   "outputs": [],
   "source": [
    "setup_video_properties()\n",
    "while True:\n",
    "    update_video_frame()"
   ]
  }
 ],
 "metadata": {
  "kernelspec": {
   "display_name": "Python 3",
   "language": "python",
   "name": "python3"
  },
  "language_info": {
   "codemirror_mode": {
    "name": "ipython",
    "version": 3
   },
   "file_extension": ".py",
   "mimetype": "text/x-python",
   "name": "python",
   "nbconvert_exporter": "python",
   "pygments_lexer": "ipython3",
   "version": "3.8.8"
  }
 },
 "nbformat": 4,
 "nbformat_minor": 2
}
