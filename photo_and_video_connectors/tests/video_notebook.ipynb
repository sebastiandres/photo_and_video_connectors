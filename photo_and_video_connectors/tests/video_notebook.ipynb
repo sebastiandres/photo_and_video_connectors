{
 "cells": [
  {
   "cell_type": "markdown",
   "metadata": {},
   "source": [
    "# Testing video capture"
   ]
  },
  {
   "cell_type": "markdown",
   "metadata": {},
   "source": [
    "## Install library"
   ]
  },
  {
   "cell_type": "code",
   "execution_count": null,
   "metadata": {},
   "outputs": [],
   "source": [
    "# from repository\n",
    "!pip install --upgrade git+https://github.com/sebastiandres/photo_and_video_connectors.git"
   ]
  },
  {
   "cell_type": "markdown",
   "metadata": {},
   "source": [
    "## Import library"
   ]
  },
  {
   "cell_type": "code",
   "execution_count": 1,
   "metadata": {},
   "outputs": [],
   "source": [
    "from photo_and_video_connectors import video"
   ]
  },
  {
   "cell_type": "markdown",
   "metadata": {},
   "source": [
    "## Capture from webcam"
   ]
  },
  {
   "cell_type": "code",
   "execution_count": 2,
   "metadata": {},
   "outputs": [
    {
     "data": {
      "application/javascript": [
       "var DEFAULT_VIDEO_TYPE='webcam';\n",
       "var DEFAULT_HEIGHT='480';\n",
       "var DEFAULT_WIDTH='600';"
      ],
      "text/plain": [
       "<IPython.core.display.Javascript object>"
      ]
     },
     "metadata": {},
     "output_type": "display_data"
    },
    {
     "name": "stdout",
     "output_type": "stream",
     "text": [
      "CWD  /Users/sebastiandres/Projects/sebastiandres_repos/photo_and_video_connectors/photo_and_video_connectors/tests\n"
     ]
    },
    {
     "data": {
      "application/javascript": [
       "async function remove_choice_div() {\n",
       "    /*  Removes the height and width inputs and choice buttons */\n",
       "    document.getElementById(\"choice_div\");\n",
       "    choice_div.remove();\n",
       "}\n",
       "\n",
       "async function add_choice_div(input_type) {\n",
       "    /*  \n",
       "    Adds the height and width inputs and choice buttons.\n",
       "    input_type can be \"video\" or \"photo\"\n",
       "    */\n",
       "    // Div where to place everything\n",
       "    const choice_div = document.createElement('div');\n",
       "    choice_div.setAttribute(\"id\", \"choice_div\")\n",
       "    document.body.appendChild(choice_div);\n",
       "    // Add height and width texts\n",
       "    var width_text = document.createTextNode(\"Resolution: width \");\n",
       "    choice_div.appendChild(width_text);\n",
       "    var width_input = document.createElement(\"INPUT\");\n",
       "    width_input.setAttribute(\"type\", \"text\");\n",
       "    width_input.setAttribute(\"value\", WIDTH);\n",
       "    width_input.setAttribute(\"size\", \"4\");\n",
       "    choice_div.appendChild(width_input);\n",
       "    var height_text = document.createTextNode(\"  height \");\n",
       "    choice_div.appendChild(height_text);\n",
       "    var height_input = document.createElement(\"INPUT\");\n",
       "    height_input.setAttribute(\"type\", \"text\");\n",
       "    height_input.setAttribute(\"value\", HEIGHT);\n",
       "    height_input.setAttribute(\"size\", \"4\");\n",
       "    choice_div.appendChild(height_input);\n",
       "    var _br = document.createElement(\"br\");\n",
       "    choice_div.appendChild(_br);\n",
       "    // Put webcam button\n",
       "    const webcam_button = document.createElement('button');\n",
       "    webcam_button.setAttribute(\"id\", \"webcam_button\")\n",
       "    webcam_button.textContent = 'Capture from Webcam';\n",
       "    choice_div.appendChild(webcam_button);\n",
       "    function webcam_function(){\n",
       "        VIDEO_TYPE = \"webcam\";\n",
       "        WIDTH = width_input.value;\n",
       "        HEIGHT = height_input.value;\n",
       "        stream_frame(\"Capturing...\", \"\"); \n",
       "    }\n",
       "    webcam_button.addEventListener(\"click\", webcam_function);\n",
       "    // Put screen button\n",
       "    var _space1 = document.createTextNode(\"  \");\n",
       "    choice_div.appendChild(_space1);\n",
       "    // Put screen button\n",
       "    const screen_button = document.createElement('button');\n",
       "    screen_button.setAttribute(\"id\", \"screen_button\")\n",
       "    screen_button.textContent = 'Capture from Screen';\n",
       "    choice_div.appendChild(screen_button);\n",
       "    function screen_function(){\n",
       "        VIDEO_TYPE = \"screen\";\n",
       "        WIDTH = width_input.value;\n",
       "        HEIGHT = height_input.value;\n",
       "        stream_frame(\"Capturing...\", \"\"); \n",
       "    }\n",
       "    screen_button.addEventListener(\"click\", screen_function);\n",
       "    var _space2 = document.createTextNode(\"  \");\n",
       "    choice_div.appendChild(_space2);\n",
       "    // Put webcam button\n",
       "    const upload_button = document.createElement('button');\n",
       "    upload_button.setAttribute(\"id\", \"upload_button\")\n",
       "    upload_button.textContent = 'Upload video';\n",
       "    choice_div.appendChild(upload_button);\n",
       "    //function upload_function(){alert(input_type + \" \" + height_input.value + \" \" + width_input.value)};\n",
       "    function upload_function(){\n",
       "        VIDEO_TYPE = \"upload\";\n",
       "        WIDTH = width_input.value;\n",
       "        HEIGHT = height_input.value;\n",
       "        stream_frame(\"Capturing...\", \"\");\n",
       "    }\n",
       "    upload_button.addEventListener(\"click\", upload_function);\n",
       "}\n"
      ],
      "text/plain": [
       "<IPython.core.display.Javascript object>"
      ]
     },
     "metadata": {},
     "output_type": "display_data"
    },
    {
     "data": {
      "application/javascript": [
       "var video;\n",
       "var div = null;\n",
       "var stream;\n",
       "var captureCanvas;\n",
       "var imgElement;\n",
       "var labelElement;\n",
       "\n",
       "var pendingResolve = null;\n",
       "var shutdown = false;\n",
       "\n",
       "function removeDom() {\n",
       "   stream.getVideoTracks()[0].stop();\n",
       "   video.remove();\n",
       "   div.remove();\n",
       "   video = null;\n",
       "   div = null;\n",
       "   stream = null;\n",
       "   imgElement = null;\n",
       "   captureCanvas = null;\n",
       "   labelElement = null;\n",
       "}\n",
       "\n",
       "function onAnimationFrame() {\n",
       "  if (!shutdown) {\n",
       "    window.requestAnimationFrame(onAnimationFrame);\n",
       "  }\n",
       "  if (pendingResolve) {\n",
       "    var result = \"\";\n",
       "    if (!shutdown) {\n",
       "      captureCanvas.getContext('2d').drawImage(video, 0, 0, WIDTH, HEIGHT);\n",
       "      result = captureCanvas.toDataURL('image/jpeg', 0.8)\n",
       "    }\n",
       "    var lp = pendingResolve;\n",
       "    pendingResolve = null;\n",
       "    lp(result);\n",
       "  }\n",
       "}\n",
       "\n",
       "async function createDom() {\n",
       "  if (div !== null) {\n",
       "    return stream;\n",
       "  }\n",
       "\n",
       "  div = document.createElement('div');\n",
       "  div.style.border = '2px solid black';\n",
       "  div.style.padding = '3px';\n",
       "  div.style.width = '100%';\n",
       "  div.style.maxWidth = parseInt(WIDTH) + 'px';\n",
       "  document.body.appendChild(div);\n",
       "  \n",
       "  const modelOut = document.createElement('div');\n",
       "  modelOut.innerHTML = \"<span>Status:</span>\";\n",
       "  labelElement = document.createElement('span');\n",
       "  labelElement.innerText = 'No data';\n",
       "  labelElement.style.fontWeight = 'bold';\n",
       "  modelOut.appendChild(labelElement);\n",
       "  div.appendChild(modelOut);\n",
       "       \n",
       "  video = document.createElement('video');\n",
       "  video.style.display = 'block';\n",
       "  video.width = div.clientWidth - 6;\n",
       "  video.setAttribute('playsinline', '');\n",
       "  video.onclick = () => { shutdown = true; };\n",
       "\n",
       "  if (VIDEO_TYPE==\"webcam\")\n",
       "    {stream = await navigator.mediaDevices.getUserMedia( {video: { facingMode: \"environment\"} })}\n",
       "  else\n",
       "    {stream = await navigator.mediaDevices.getDisplayMedia()};\n",
       "\n",
       "  div.appendChild(video);\n",
       "\n",
       "  imgElement = document.createElement('img');\n",
       "  imgElement.style.position = 'absolute';\n",
       "  imgElement.style.zIndex = 1;\n",
       "  imgElement.onclick = () => { shutdown = true; };\n",
       "  div.appendChild(imgElement);\n",
       "  \n",
       "  const instruction = document.createElement('div');\n",
       "  instruction.innerHTML = \n",
       "      '<span style=\"color: red; font-weight: bold;\">' +\n",
       "      'When finished, click here or on the video to stop this demo</span>';\n",
       "  div.appendChild(instruction);\n",
       "  instruction.onclick = () => { shutdown = true; };\n",
       "  \n",
       "  video.srcObject = stream;\n",
       "  await video.play();\n",
       "\n",
       "  captureCanvas = document.createElement('canvas');\n",
       "  //captureCanvas.width = 640; //video.videoWidth;\n",
       "  //captureCanvas.height = 480; //video.videoHeight;\n",
       "  captureCanvas.width = video.videoWidth;\n",
       "  captureCanvas.height = video.videoHeight;\n",
       "  window.requestAnimationFrame(onAnimationFrame);\n",
       "  \n",
       "  return stream;\n",
       "}\n",
       "\n",
       "\n",
       "async function stream_frame(label, imgData) {\n",
       "  /* \n",
       "  */ \n",
       "  remove_choice_div()\n",
       "  if (shutdown) {\n",
       "    removeDom();\n",
       "    shutdown = false;\n",
       "    return '';\n",
       "  }\n",
       "\n",
       "  var preCreate = Date.now();\n",
       "  stream = await createDom();\n",
       "  \n",
       "  var preShow = Date.now();\n",
       "  if (label != \"\") {\n",
       "    labelElement.innerHTML = label;\n",
       "  }\n",
       "        \n",
       "  if (imgData != \"\") {\n",
       "    var videoRect = video.getClientRects()[0];\n",
       "    imgElement.style.top = videoRect.top + \"px\";\n",
       "    imgElement.style.left = videoRect.left + \"px\";\n",
       "    imgElement.style.width = videoRect.width + \"px\";\n",
       "    imgElement.style.height = videoRect.height + \"px\";\n",
       "    imgElement.src = imgData;\n",
       "  }\n",
       "  \n",
       "  var preCapture = Date.now();\n",
       "  var result = await new Promise(function(resolve, reject) {\n",
       "    pendingResolve = resolve;\n",
       "  });\n",
       "  shutdown = false;\n",
       "  \n",
       "  return {'create': preShow - preCreate, \n",
       "          'show': preCapture - preShow, \n",
       "          'capture': Date.now() - preCapture,\n",
       "          'img': result};\n",
       "}"
      ],
      "text/plain": [
       "<IPython.core.display.Javascript object>"
      ]
     },
     "metadata": {},
     "output_type": "display_data"
    },
    {
     "data": {
      "application/javascript": [
       "add_choice_div(\"video\");"
      ],
      "text/plain": [
       "<IPython.core.display.Javascript object>"
      ]
     },
     "metadata": {},
     "output_type": "display_data"
    }
   ],
   "source": [
    "video.setup_properties(\"webcam\", height=480, width=600)"
   ]
  },
  {
   "cell_type": "code",
   "execution_count": null,
   "metadata": {},
   "outputs": [],
   "source": [
    "while True:\n",
    "    video.update_frame(\"\")"
   ]
  },
  {
   "cell_type": "markdown",
   "metadata": {},
   "source": [
    "## Capture from Screen (Displays)"
   ]
  },
  {
   "cell_type": "code",
   "execution_count": null,
   "metadata": {},
   "outputs": [],
   "source": [
    "setup_video_properties(\"screen\", height=480, width=600)\n",
    "while True:\n",
    "    update_video_frame()"
   ]
  },
  {
   "cell_type": "markdown",
   "metadata": {},
   "source": [
    "## Upload file"
   ]
  },
  {
   "cell_type": "code",
   "execution_count": null,
   "metadata": {},
   "outputs": [],
   "source": [
    "setup_video_properties(\"upload\", height=480, width=600)\n",
    "while True:\n",
    "    update_video_frame()"
   ]
  },
  {
   "cell_type": "markdown",
   "metadata": {},
   "source": [
    "## Select from available choices"
   ]
  },
  {
   "cell_type": "code",
   "execution_count": null,
   "metadata": {},
   "outputs": [],
   "source": [
    "setup_video_properties()\n",
    "while True:\n",
    "    update_video_frame()"
   ]
  }
 ],
 "metadata": {
  "kernelspec": {
   "display_name": "Python 3",
   "language": "python",
   "name": "python3"
  },
  "language_info": {
   "codemirror_mode": {
    "name": "ipython",
    "version": 3
   },
   "file_extension": ".py",
   "mimetype": "text/x-python",
   "name": "python",
   "nbconvert_exporter": "python",
   "pygments_lexer": "ipython3",
   "version": "3.8.8"
  }
 },
 "nbformat": 4,
 "nbformat_minor": 2
}
